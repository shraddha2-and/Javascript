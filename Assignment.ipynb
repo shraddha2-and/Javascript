{
  "nbformat": 4,
  "nbformat_minor": 0,
  "metadata": {
    "colab": {
      "name": "Assignment.ipynb",
      "provenance": [],
      "collapsed_sections": [],
      "authorship_tag": "ABX9TyNmzP+xHRW12WwEZ+R0eh+l",
      "include_colab_link": true
    },
    "kernelspec": {
      "name": "python3",
      "display_name": "Python 3"
    },
    "language_info": {
      "name": "python"
    }
  },
  "cells": [
    {
      "cell_type": "markdown",
      "metadata": {
        "id": "view-in-github",
        "colab_type": "text"
      },
      "source": [
        "<a href=\"https://colab.research.google.com/github/shraddha2-and/Javascript/blob/main/Assignment.ipynb\" target=\"_parent\"><img src=\"https://colab.research.google.com/assets/colab-badge.svg\" alt=\"Open In Colab\"/></a>"
      ]
    },
    {
      "cell_type": "markdown",
      "metadata": {
        "id": "wJM8KmB6PyiJ"
      },
      "source": [
        "-# Assignment Day ***1***"
      ]
    },
    {
      "cell_type": "markdown",
      "metadata": {
        "id": "kzui4UvHQNC5"
      },
      "source": [
        "1> Question : Create list's with brand names.***  "
      ]
    },
    {
      "cell_type": "code",
      "metadata": {
        "colab": {
          "base_uri": "https://localhost:8080/"
        },
        "id": "nfrRr4ImQZVg",
        "outputId": "805f4227-a456-4484-8d06-da0877c5c695"
      },
      "source": [
        "list_brand = [\"Sony\",\"Samsung\" \"Google\",\"Apple\",\"Dell\"]\n",
        "print(list_brand)\n",
        "type(list_brand)"
      ],
      "execution_count": 7,
      "outputs": [
        {
          "output_type": "stream",
          "text": [
            "['Sony', 'SamsungGoogle', 'Apple', 'Dell']\n"
          ],
          "name": "stdout"
        },
        {
          "output_type": "execute_result",
          "data": {
            "text/plain": [
              "list"
            ]
          },
          "metadata": {
            "tags": []
          },
          "execution_count": 7
        }
      ]
    },
    {
      "cell_type": "code",
      "metadata": {
        "colab": {
          "base_uri": "https://localhost:8080/"
        },
        "id": "2BZ-wD12RQXo",
        "outputId": "eb82bb91-a002-496d-c913-ecdb0a5a2d16"
      },
      "source": [
        "list2_brand = [\"Amazon\",\"Coca-cola\",\"Microsoft\",\"Bata\",\"Facebook\"]\n",
        "print(list2_brand)\n",
        "type(list2_brand)"
      ],
      "execution_count": 5,
      "outputs": [
        {
          "output_type": "stream",
          "text": [
            "['Amazon', 'Coca-cola', 'Microsoft', 'Bata', 'Facebook']\n"
          ],
          "name": "stdout"
        },
        {
          "output_type": "execute_result",
          "data": {
            "text/plain": [
              "list"
            ]
          },
          "metadata": {
            "tags": []
          },
          "execution_count": 5
        }
      ]
    },
    {
      "cell_type": "markdown",
      "metadata": {
        "id": "GudJPSJtTOvt"
      },
      "source": [
        "2> List of overloading brand name in both lists**** ****"
      ]
    },
    {
      "cell_type": "code",
      "metadata": {
        "colab": {
          "base_uri": "https://localhost:8080/"
        },
        "id": "AjTZCGrlUQnx",
        "outputId": "f2b46138-6013-4195-94c9-6e58868fa4bb"
      },
      "source": [
        "list_brand= list_brand+[\"LG\",\"Kent\"] \n",
        "\n",
        "list_brand"
      ],
      "execution_count": 14,
      "outputs": [
        {
          "output_type": "execute_result",
          "data": {
            "text/plain": [
              "['Sony', 'SamsungGoogle', 'Apple', 'Dell', 'LG', 'Kent']"
            ]
          },
          "metadata": {
            "tags": []
          },
          "execution_count": 14
        }
      ]
    },
    {
      "cell_type": "code",
      "metadata": {
        "colab": {
          "base_uri": "https://localhost:8080/"
        },
        "id": "3v3m1zueYZLk",
        "outputId": "d86c1ad6-b5ad-493a-f295-1ea50b6bcde2"
      },
      "source": [
        "list2_brand = list2_brand + [\"Adidas\",\"Wal_mart\",\"Puma\"]\n",
        "list2_brand"
      ],
      "execution_count": 15,
      "outputs": [
        {
          "output_type": "execute_result",
          "data": {
            "text/plain": [
              "['Amazon',\n",
              " 'Coca-cola',\n",
              " 'Microsoft',\n",
              " 'Bata',\n",
              " 'Facebook',\n",
              " 'Adidas',\n",
              " 'Wal_mart',\n",
              " 'Puma']"
            ]
          },
          "metadata": {
            "tags": []
          },
          "execution_count": 15
        }
      ]
    },
    {
      "cell_type": "markdown",
      "metadata": {
        "id": "6k7cpPhogBiT"
      },
      "source": [
        "3>Print even numbers starting with 20 and ending with 40 ****"
      ]
    },
    {
      "cell_type": "code",
      "metadata": {
        "colab": {
          "base_uri": "https://localhost:8080/"
        },
        "id": "mI-vdh0BgK6e",
        "outputId": "8e989911-119d-4d0c-97f1-84a425a5ae79"
      },
      "source": [
        "for i in range(20,41):\n",
        "   print(i,\":\")"
      ],
      "execution_count": 29,
      "outputs": [
        {
          "output_type": "stream",
          "text": [
            "20 :\n",
            "21 :\n",
            "22 :\n",
            "23 :\n",
            "24 :\n",
            "25 :\n",
            "26 :\n",
            "27 :\n",
            "28 :\n",
            "29 :\n",
            "30 :\n",
            "31 :\n",
            "32 :\n",
            "33 :\n",
            "34 :\n",
            "35 :\n",
            "36 :\n",
            "37 :\n",
            "38 :\n",
            "39 :\n",
            "40 :\n"
          ],
          "name": "stdout"
        }
      ]
    },
    {
      "cell_type": "code",
      "metadata": {
        "colab": {
          "base_uri": "https://localhost:8080/"
        },
        "id": "5dLPai1fholT",
        "outputId": "80e5c4b0-8866-48cf-c6c7-c0229ba8bdec"
      },
      "source": [
        "for i in range(20,40,2):\n",
        "  print(\"\",i)"
      ],
      "execution_count": 28,
      "outputs": [
        {
          "output_type": "stream",
          "text": [
            " 20\n",
            " 22\n",
            " 24\n",
            " 26\n",
            " 28\n",
            " 30\n",
            " 32\n",
            " 34\n",
            " 36\n",
            " 38\n"
          ],
          "name": "stdout"
        }
      ]
    }
  ]
}